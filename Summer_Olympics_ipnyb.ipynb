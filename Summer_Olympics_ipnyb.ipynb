{
  "nbformat": 4,
  "nbformat_minor": 0,
  "metadata": {
    "kernelspec": {
      "display_name": "Python 2",
      "language": "python",
      "name": "python2"
    },
    "language_info": {
      "codemirror_mode": {
        "name": "ipython",
        "version": 2
      },
      "file_extension": ".py",
      "mimetype": "text/x-python",
      "name": "python",
      "nbconvert_exporter": "python",
      "pygments_lexer": "ipython2",
      "version": "2.7.16"
    },
    "colab": {
      "name": "Summer Olympics.ipnyb",
      "provenance": [],
      "collapsed_sections": []
    }
  },
  "cells": [
    {
      "cell_type": "code",
      "metadata": {
        "id": "sJRvCyBj4Ny4"
      },
      "source": [
        "import pandas as pd\n",
        "import numpy as np\n",
        "import matplotlib.pyplot as plt"
      ],
      "execution_count": null,
      "outputs": []
    },
    {
      "cell_type": "code",
      "metadata": {
        "id": "VZrJNddwBHVk"
      },
      "source": [
        "df = pd.read_csv('summer.csv')"
      ],
      "execution_count": null,
      "outputs": []
    },
    {
      "cell_type": "code",
      "metadata": {
        "colab": {
          "base_uri": "https://localhost:8080/",
          "height": 1000
        },
        "id": "1--iUec8BQ34",
        "outputId": "f155a599-c1e1-45d2-f90c-8dac33f70e06"
      },
      "source": [
        "df"
      ],
      "execution_count": null,
      "outputs": [
        {
          "output_type": "execute_result",
          "data": {
            "text/plain": [
              "       Year    City      Sport           Discipline  \\\n",
              "0      1896  Athens   Aquatics             Swimming   \n",
              "1      1896  Athens   Aquatics             Swimming   \n",
              "2      1896  Athens   Aquatics             Swimming   \n",
              "3      1896  Athens   Aquatics             Swimming   \n",
              "4      1896  Athens   Aquatics             Swimming   \n",
              "5      1896  Athens   Aquatics             Swimming   \n",
              "6      1896  Athens   Aquatics             Swimming   \n",
              "7      1896  Athens   Aquatics             Swimming   \n",
              "8      1896  Athens   Aquatics             Swimming   \n",
              "9      1896  Athens   Aquatics             Swimming   \n",
              "10     1896  Athens   Aquatics             Swimming   \n",
              "11     1896  Athens  Athletics            Athletics   \n",
              "12     1896  Athens  Athletics            Athletics   \n",
              "13     1896  Athens  Athletics            Athletics   \n",
              "14     1896  Athens  Athletics            Athletics   \n",
              "15     1896  Athens  Athletics            Athletics   \n",
              "16     1896  Athens  Athletics            Athletics   \n",
              "17     1896  Athens  Athletics            Athletics   \n",
              "18     1896  Athens  Athletics            Athletics   \n",
              "19     1896  Athens  Athletics            Athletics   \n",
              "20     1896  Athens  Athletics            Athletics   \n",
              "21     1896  Athens  Athletics            Athletics   \n",
              "22     1896  Athens  Athletics            Athletics   \n",
              "23     1896  Athens  Athletics            Athletics   \n",
              "24     1896  Athens  Athletics            Athletics   \n",
              "25     1896  Athens  Athletics            Athletics   \n",
              "26     1896  Athens  Athletics            Athletics   \n",
              "27     1896  Athens  Athletics            Athletics   \n",
              "28     1896  Athens  Athletics            Athletics   \n",
              "29     1896  Athens  Athletics            Athletics   \n",
              "...     ...     ...        ...                  ...   \n",
              "31135  2012  London  Wrestling  Wrestling Freestyle   \n",
              "31136  2012  London  Wrestling  Wrestling Freestyle   \n",
              "31137  2012  London  Wrestling  Wrestling Freestyle   \n",
              "31138  2012  London  Wrestling  Wrestling Freestyle   \n",
              "31139  2012  London  Wrestling  Wrestling Freestyle   \n",
              "31140  2012  London  Wrestling  Wrestling Freestyle   \n",
              "31141  2012  London  Wrestling  Wrestling Freestyle   \n",
              "31142  2012  London  Wrestling  Wrestling Freestyle   \n",
              "31143  2012  London  Wrestling  Wrestling Freestyle   \n",
              "31144  2012  London  Wrestling  Wrestling Freestyle   \n",
              "31145  2012  London  Wrestling  Wrestling Freestyle   \n",
              "31146  2012  London  Wrestling  Wrestling Freestyle   \n",
              "31147  2012  London  Wrestling  Wrestling Freestyle   \n",
              "31148  2012  London  Wrestling  Wrestling Freestyle   \n",
              "31149  2012  London  Wrestling  Wrestling Freestyle   \n",
              "31150  2012  London  Wrestling  Wrestling Freestyle   \n",
              "31151  2012  London  Wrestling  Wrestling Freestyle   \n",
              "31152  2012  London  Wrestling  Wrestling Freestyle   \n",
              "31153  2012  London  Wrestling  Wrestling Freestyle   \n",
              "31154  2012  London  Wrestling  Wrestling Freestyle   \n",
              "31155  2012  London  Wrestling  Wrestling Freestyle   \n",
              "31156  2012  London  Wrestling  Wrestling Freestyle   \n",
              "31157  2012  London  Wrestling  Wrestling Freestyle   \n",
              "31158  2012  London  Wrestling  Wrestling Freestyle   \n",
              "31159  2012  London  Wrestling  Wrestling Freestyle   \n",
              "31160  2012  London  Wrestling  Wrestling Freestyle   \n",
              "31161  2012  London  Wrestling  Wrestling Freestyle   \n",
              "31162  2012  London  Wrestling  Wrestling Freestyle   \n",
              "31163  2012  London  Wrestling  Wrestling Freestyle   \n",
              "31164  2012  London  Wrestling  Wrestling Freestyle   \n",
              "\n",
              "                                 Athlete Country Gender  \\\n",
              "0                          HAJOS, Alfred     HUN    Men   \n",
              "1                       HERSCHMANN, Otto     AUT    Men   \n",
              "2                      DRIVAS, Dimitrios     GRE    Men   \n",
              "3                     MALOKINIS, Ioannis     GRE    Men   \n",
              "4                     CHASAPIS, Spiridon     GRE    Men   \n",
              "5                  CHOROPHAS, Efstathios     GRE    Men   \n",
              "6                          HAJOS, Alfred     HUN    Men   \n",
              "7                       ANDREOU, Joannis     GRE    Men   \n",
              "8                  CHOROPHAS, Efstathios     GRE    Men   \n",
              "9                          NEUMANN, Paul     AUT    Men   \n",
              "10                     PEPANOS, Antonios     GRE    Men   \n",
              "11                         LANE, Francis     USA    Men   \n",
              "12                      SZOKOLYI, Alajos     HUN    Men   \n",
              "13                         BURKE, Thomas     USA    Men   \n",
              "14                        HOFMANN, Fritz     GER    Men   \n",
              "15                        CURTIS, Thomas     USA    Men   \n",
              "16                    GOULDING, Grantley     GBR    Men   \n",
              "17                     LERMUSIAUX, Albin     FRA    Men   \n",
              "18                          FLACK, Edwin     AUS    Men   \n",
              "19                         BLAKE, Arthur     USA    Men   \n",
              "20                       GMELIN, Charles     GBR    Men   \n",
              "21                         BURKE, Thomas     USA    Men   \n",
              "22                      JAMISON, Herbert     USA    Men   \n",
              "23                    GOLEMIS, Dimitrios     GRE    Men   \n",
              "24                          FLACK, Edwin     AUS    Men   \n",
              "25                          DANI, Nandor     HUN    Men   \n",
              "26                      VERSIS, Sotirios     GRE    Men   \n",
              "27                       GARRETT, Robert     USA    Men   \n",
              "28           PARASKEVOPOULOS, Panagiotis     GRE    Men   \n",
              "29                         CLARK, Ellery     USA    Men   \n",
              "...                                  ...     ...    ...   \n",
              "31135                   GAZYUMOV, Khetag     AZE    Men   \n",
              "31136                GOGSHELIDZE, George     GEO    Men   \n",
              "31137                LOPEZ NUNEZ, Mijain     CUB    Men   \n",
              "31138                        NABI, Heiki     EST    Men   \n",
              "31139                       EUREN, Johan     SWE    Men   \n",
              "31140                      KAYAALP, Riza     TUR    Men   \n",
              "31141  SORYAN REIHANPOUR, Hamid Mohammad     IRI    Men   \n",
              "31142                  BAYRAMOV, Rovshan     AZE    Men   \n",
              "31143                       MODOS, Peter     HUN    Men   \n",
              "31144                  SEMENOV, Mingiyan     RUS    Men   \n",
              "31145                 NOROOZI, Omid Haji     IRI    Men   \n",
              "31146                     LASHKHI, Revaz     GEO    Men   \n",
              "31147                KURAMAGOMEDOV, Zaur     RUS    Men   \n",
              "31148                 MATSUMOTO, Ryutaro     JPN    Men   \n",
              "31149                      KIM, Hyeonwoo     KOR    Men   \n",
              "31150                     LORINCZ, Tamas     HUN    Men   \n",
              "31151                     GUENOT, Steeve     FRA    Men   \n",
              "31152                TSKHADAIA, Manuchar     GEO    Men   \n",
              "31153                      VLASOV, Roman     RUS    Men   \n",
              "31154                 JULFALAKYAN, Arsen     ARM    Men   \n",
              "31155                      AHMADOV, Emin     AZE    Men   \n",
              "31156               KAZAKEVIC, Aleksandr     LTU    Men   \n",
              "31157                      KHUGAEV, Alan     RUS    Men   \n",
              "31158       EBRAHIM, Karam Mohamed Gaber     EGY    Men   \n",
              "31159                    GAJIYEV, Danyal     KAZ    Men   \n",
              "31160                 JANIKOWSKI, Damian     POL    Men   \n",
              "31161          REZAEI, Ghasem Gholamreza     IRI    Men   \n",
              "31162                     TOTROV, Rustam     RUS    Men   \n",
              "31163                  ALEKSANYAN, Artur     ARM    Men   \n",
              "31164                     LIDBERG, Jimmy     SWE    Men   \n",
              "\n",
              "                            Event   Medal  \n",
              "0                  100M Freestyle    Gold  \n",
              "1                  100M Freestyle  Silver  \n",
              "2      100M Freestyle For Sailors  Bronze  \n",
              "3      100M Freestyle For Sailors    Gold  \n",
              "4      100M Freestyle For Sailors  Silver  \n",
              "5                 1200M Freestyle  Bronze  \n",
              "6                 1200M Freestyle    Gold  \n",
              "7                 1200M Freestyle  Silver  \n",
              "8                  400M Freestyle  Bronze  \n",
              "9                  400M Freestyle    Gold  \n",
              "10                 400M Freestyle  Silver  \n",
              "11                           100M  Bronze  \n",
              "12                           100M  Bronze  \n",
              "13                           100M    Gold  \n",
              "14                           100M  Silver  \n",
              "15                   110M Hurdles    Gold  \n",
              "16                   110M Hurdles  Silver  \n",
              "17                          1500M  Bronze  \n",
              "18                          1500M    Gold  \n",
              "19                          1500M  Silver  \n",
              "20                           400M  Bronze  \n",
              "21                           400M    Gold  \n",
              "22                           400M  Silver  \n",
              "23                           800M  Bronze  \n",
              "24                           800M    Gold  \n",
              "25                           800M  Silver  \n",
              "26                   Discus Throw  Bronze  \n",
              "27                   Discus Throw    Gold  \n",
              "28                   Discus Throw  Silver  \n",
              "29                      High Jump    Gold  \n",
              "...                           ...     ...  \n",
              "31135                    Wf 96 KG  Bronze  \n",
              "31136                    Wf 96 KG  Bronze  \n",
              "31137                   Wg 120 KG    Gold  \n",
              "31138                   Wg 120 KG  Silver  \n",
              "31139                   Wg 120 KG  Bronze  \n",
              "31140                   Wg 120 KG  Bronze  \n",
              "31141                    Wg 55 KG    Gold  \n",
              "31142                    Wg 55 KG  Silver  \n",
              "31143                    Wg 55 KG  Bronze  \n",
              "31144                    Wg 55 KG  Bronze  \n",
              "31145                    Wg 60 KG    Gold  \n",
              "31146                    Wg 60 KG  Silver  \n",
              "31147                    Wg 60 KG  Bronze  \n",
              "31148                    Wg 60 KG  Bronze  \n",
              "31149                    Wg 66 KG    Gold  \n",
              "31150                    Wg 66 KG  Silver  \n",
              "31151                    Wg 66 KG  Bronze  \n",
              "31152                    Wg 66 KG  Bronze  \n",
              "31153                    Wg 74 KG    Gold  \n",
              "31154                    Wg 74 KG  Silver  \n",
              "31155                    Wg 74 KG  Bronze  \n",
              "31156                    Wg 74 KG  Bronze  \n",
              "31157                    Wg 84 KG    Gold  \n",
              "31158                    Wg 84 KG  Silver  \n",
              "31159                    Wg 84 KG  Bronze  \n",
              "31160                    Wg 84 KG  Bronze  \n",
              "31161                    Wg 96 KG    Gold  \n",
              "31162                    Wg 96 KG  Silver  \n",
              "31163                    Wg 96 KG  Bronze  \n",
              "31164                    Wg 96 KG  Bronze  \n",
              "\n",
              "[31165 rows x 9 columns]"
            ],
            "text/html": [
              "<div>\n",
              "<style scoped>\n",
              "    .dataframe tbody tr th:only-of-type {\n",
              "        vertical-align: middle;\n",
              "    }\n",
              "\n",
              "    .dataframe tbody tr th {\n",
              "        vertical-align: top;\n",
              "    }\n",
              "\n",
              "    .dataframe thead th {\n",
              "        text-align: right;\n",
              "    }\n",
              "</style>\n",
              "<table border=\"1\" class=\"dataframe\">\n",
              "  <thead>\n",
              "    <tr style=\"text-align: right;\">\n",
              "      <th></th>\n",
              "      <th>Year</th>\n",
              "      <th>City</th>\n",
              "      <th>Sport</th>\n",
              "      <th>Discipline</th>\n",
              "      <th>Athlete</th>\n",
              "      <th>Country</th>\n",
              "      <th>Gender</th>\n",
              "      <th>Event</th>\n",
              "      <th>Medal</th>\n",
              "    </tr>\n",
              "  </thead>\n",
              "  <tbody>\n",
              "    <tr>\n",
              "      <th>0</th>\n",
              "      <td>1896</td>\n",
              "      <td>Athens</td>\n",
              "      <td>Aquatics</td>\n",
              "      <td>Swimming</td>\n",
              "      <td>HAJOS, Alfred</td>\n",
              "      <td>HUN</td>\n",
              "      <td>Men</td>\n",
              "      <td>100M Freestyle</td>\n",
              "      <td>Gold</td>\n",
              "    </tr>\n",
              "    <tr>\n",
              "      <th>1</th>\n",
              "      <td>1896</td>\n",
              "      <td>Athens</td>\n",
              "      <td>Aquatics</td>\n",
              "      <td>Swimming</td>\n",
              "      <td>HERSCHMANN, Otto</td>\n",
              "      <td>AUT</td>\n",
              "      <td>Men</td>\n",
              "      <td>100M Freestyle</td>\n",
              "      <td>Silver</td>\n",
              "    </tr>\n",
              "    <tr>\n",
              "      <th>2</th>\n",
              "      <td>1896</td>\n",
              "      <td>Athens</td>\n",
              "      <td>Aquatics</td>\n",
              "      <td>Swimming</td>\n",
              "      <td>DRIVAS, Dimitrios</td>\n",
              "      <td>GRE</td>\n",
              "      <td>Men</td>\n",
              "      <td>100M Freestyle For Sailors</td>\n",
              "      <td>Bronze</td>\n",
              "    </tr>\n",
              "    <tr>\n",
              "      <th>3</th>\n",
              "      <td>1896</td>\n",
              "      <td>Athens</td>\n",
              "      <td>Aquatics</td>\n",
              "      <td>Swimming</td>\n",
              "      <td>MALOKINIS, Ioannis</td>\n",
              "      <td>GRE</td>\n",
              "      <td>Men</td>\n",
              "      <td>100M Freestyle For Sailors</td>\n",
              "      <td>Gold</td>\n",
              "    </tr>\n",
              "    <tr>\n",
              "      <th>4</th>\n",
              "      <td>1896</td>\n",
              "      <td>Athens</td>\n",
              "      <td>Aquatics</td>\n",
              "      <td>Swimming</td>\n",
              "      <td>CHASAPIS, Spiridon</td>\n",
              "      <td>GRE</td>\n",
              "      <td>Men</td>\n",
              "      <td>100M Freestyle For Sailors</td>\n",
              "      <td>Silver</td>\n",
              "    </tr>\n",
              "    <tr>\n",
              "      <th>5</th>\n",
              "      <td>1896</td>\n",
              "      <td>Athens</td>\n",
              "      <td>Aquatics</td>\n",
              "      <td>Swimming</td>\n",
              "      <td>CHOROPHAS, Efstathios</td>\n",
              "      <td>GRE</td>\n",
              "      <td>Men</td>\n",
              "      <td>1200M Freestyle</td>\n",
              "      <td>Bronze</td>\n",
              "    </tr>\n",
              "    <tr>\n",
              "      <th>6</th>\n",
              "      <td>1896</td>\n",
              "      <td>Athens</td>\n",
              "      <td>Aquatics</td>\n",
              "      <td>Swimming</td>\n",
              "      <td>HAJOS, Alfred</td>\n",
              "      <td>HUN</td>\n",
              "      <td>Men</td>\n",
              "      <td>1200M Freestyle</td>\n",
              "      <td>Gold</td>\n",
              "    </tr>\n",
              "    <tr>\n",
              "      <th>7</th>\n",
              "      <td>1896</td>\n",
              "      <td>Athens</td>\n",
              "      <td>Aquatics</td>\n",
              "      <td>Swimming</td>\n",
              "      <td>ANDREOU, Joannis</td>\n",
              "      <td>GRE</td>\n",
              "      <td>Men</td>\n",
              "      <td>1200M Freestyle</td>\n",
              "      <td>Silver</td>\n",
              "    </tr>\n",
              "    <tr>\n",
              "      <th>8</th>\n",
              "      <td>1896</td>\n",
              "      <td>Athens</td>\n",
              "      <td>Aquatics</td>\n",
              "      <td>Swimming</td>\n",
              "      <td>CHOROPHAS, Efstathios</td>\n",
              "      <td>GRE</td>\n",
              "      <td>Men</td>\n",
              "      <td>400M Freestyle</td>\n",
              "      <td>Bronze</td>\n",
              "    </tr>\n",
              "    <tr>\n",
              "      <th>9</th>\n",
              "      <td>1896</td>\n",
              "      <td>Athens</td>\n",
              "      <td>Aquatics</td>\n",
              "      <td>Swimming</td>\n",
              "      <td>NEUMANN, Paul</td>\n",
              "      <td>AUT</td>\n",
              "      <td>Men</td>\n",
              "      <td>400M Freestyle</td>\n",
              "      <td>Gold</td>\n",
              "    </tr>\n",
              "    <tr>\n",
              "      <th>10</th>\n",
              "      <td>1896</td>\n",
              "      <td>Athens</td>\n",
              "      <td>Aquatics</td>\n",
              "      <td>Swimming</td>\n",
              "      <td>PEPANOS, Antonios</td>\n",
              "      <td>GRE</td>\n",
              "      <td>Men</td>\n",
              "      <td>400M Freestyle</td>\n",
              "      <td>Silver</td>\n",
              "    </tr>\n",
              "    <tr>\n",
              "      <th>11</th>\n",
              "      <td>1896</td>\n",
              "      <td>Athens</td>\n",
              "      <td>Athletics</td>\n",
              "      <td>Athletics</td>\n",
              "      <td>LANE, Francis</td>\n",
              "      <td>USA</td>\n",
              "      <td>Men</td>\n",
              "      <td>100M</td>\n",
              "      <td>Bronze</td>\n",
              "    </tr>\n",
              "    <tr>\n",
              "      <th>12</th>\n",
              "      <td>1896</td>\n",
              "      <td>Athens</td>\n",
              "      <td>Athletics</td>\n",
              "      <td>Athletics</td>\n",
              "      <td>SZOKOLYI, Alajos</td>\n",
              "      <td>HUN</td>\n",
              "      <td>Men</td>\n",
              "      <td>100M</td>\n",
              "      <td>Bronze</td>\n",
              "    </tr>\n",
              "    <tr>\n",
              "      <th>13</th>\n",
              "      <td>1896</td>\n",
              "      <td>Athens</td>\n",
              "      <td>Athletics</td>\n",
              "      <td>Athletics</td>\n",
              "      <td>BURKE, Thomas</td>\n",
              "      <td>USA</td>\n",
              "      <td>Men</td>\n",
              "      <td>100M</td>\n",
              "      <td>Gold</td>\n",
              "    </tr>\n",
              "    <tr>\n",
              "      <th>14</th>\n",
              "      <td>1896</td>\n",
              "      <td>Athens</td>\n",
              "      <td>Athletics</td>\n",
              "      <td>Athletics</td>\n",
              "      <td>HOFMANN, Fritz</td>\n",
              "      <td>GER</td>\n",
              "      <td>Men</td>\n",
              "      <td>100M</td>\n",
              "      <td>Silver</td>\n",
              "    </tr>\n",
              "    <tr>\n",
              "      <th>15</th>\n",
              "      <td>1896</td>\n",
              "      <td>Athens</td>\n",
              "      <td>Athletics</td>\n",
              "      <td>Athletics</td>\n",
              "      <td>CURTIS, Thomas</td>\n",
              "      <td>USA</td>\n",
              "      <td>Men</td>\n",
              "      <td>110M Hurdles</td>\n",
              "      <td>Gold</td>\n",
              "    </tr>\n",
              "    <tr>\n",
              "      <th>16</th>\n",
              "      <td>1896</td>\n",
              "      <td>Athens</td>\n",
              "      <td>Athletics</td>\n",
              "      <td>Athletics</td>\n",
              "      <td>GOULDING, Grantley</td>\n",
              "      <td>GBR</td>\n",
              "      <td>Men</td>\n",
              "      <td>110M Hurdles</td>\n",
              "      <td>Silver</td>\n",
              "    </tr>\n",
              "    <tr>\n",
              "      <th>17</th>\n",
              "      <td>1896</td>\n",
              "      <td>Athens</td>\n",
              "      <td>Athletics</td>\n",
              "      <td>Athletics</td>\n",
              "      <td>LERMUSIAUX, Albin</td>\n",
              "      <td>FRA</td>\n",
              "      <td>Men</td>\n",
              "      <td>1500M</td>\n",
              "      <td>Bronze</td>\n",
              "    </tr>\n",
              "    <tr>\n",
              "      <th>18</th>\n",
              "      <td>1896</td>\n",
              "      <td>Athens</td>\n",
              "      <td>Athletics</td>\n",
              "      <td>Athletics</td>\n",
              "      <td>FLACK, Edwin</td>\n",
              "      <td>AUS</td>\n",
              "      <td>Men</td>\n",
              "      <td>1500M</td>\n",
              "      <td>Gold</td>\n",
              "    </tr>\n",
              "    <tr>\n",
              "      <th>19</th>\n",
              "      <td>1896</td>\n",
              "      <td>Athens</td>\n",
              "      <td>Athletics</td>\n",
              "      <td>Athletics</td>\n",
              "      <td>BLAKE, Arthur</td>\n",
              "      <td>USA</td>\n",
              "      <td>Men</td>\n",
              "      <td>1500M</td>\n",
              "      <td>Silver</td>\n",
              "    </tr>\n",
              "    <tr>\n",
              "      <th>20</th>\n",
              "      <td>1896</td>\n",
              "      <td>Athens</td>\n",
              "      <td>Athletics</td>\n",
              "      <td>Athletics</td>\n",
              "      <td>GMELIN, Charles</td>\n",
              "      <td>GBR</td>\n",
              "      <td>Men</td>\n",
              "      <td>400M</td>\n",
              "      <td>Bronze</td>\n",
              "    </tr>\n",
              "    <tr>\n",
              "      <th>21</th>\n",
              "      <td>1896</td>\n",
              "      <td>Athens</td>\n",
              "      <td>Athletics</td>\n",
              "      <td>Athletics</td>\n",
              "      <td>BURKE, Thomas</td>\n",
              "      <td>USA</td>\n",
              "      <td>Men</td>\n",
              "      <td>400M</td>\n",
              "      <td>Gold</td>\n",
              "    </tr>\n",
              "    <tr>\n",
              "      <th>22</th>\n",
              "      <td>1896</td>\n",
              "      <td>Athens</td>\n",
              "      <td>Athletics</td>\n",
              "      <td>Athletics</td>\n",
              "      <td>JAMISON, Herbert</td>\n",
              "      <td>USA</td>\n",
              "      <td>Men</td>\n",
              "      <td>400M</td>\n",
              "      <td>Silver</td>\n",
              "    </tr>\n",
              "    <tr>\n",
              "      <th>23</th>\n",
              "      <td>1896</td>\n",
              "      <td>Athens</td>\n",
              "      <td>Athletics</td>\n",
              "      <td>Athletics</td>\n",
              "      <td>GOLEMIS, Dimitrios</td>\n",
              "      <td>GRE</td>\n",
              "      <td>Men</td>\n",
              "      <td>800M</td>\n",
              "      <td>Bronze</td>\n",
              "    </tr>\n",
              "    <tr>\n",
              "      <th>24</th>\n",
              "      <td>1896</td>\n",
              "      <td>Athens</td>\n",
              "      <td>Athletics</td>\n",
              "      <td>Athletics</td>\n",
              "      <td>FLACK, Edwin</td>\n",
              "      <td>AUS</td>\n",
              "      <td>Men</td>\n",
              "      <td>800M</td>\n",
              "      <td>Gold</td>\n",
              "    </tr>\n",
              "    <tr>\n",
              "      <th>25</th>\n",
              "      <td>1896</td>\n",
              "      <td>Athens</td>\n",
              "      <td>Athletics</td>\n",
              "      <td>Athletics</td>\n",
              "      <td>DANI, Nandor</td>\n",
              "      <td>HUN</td>\n",
              "      <td>Men</td>\n",
              "      <td>800M</td>\n",
              "      <td>Silver</td>\n",
              "    </tr>\n",
              "    <tr>\n",
              "      <th>26</th>\n",
              "      <td>1896</td>\n",
              "      <td>Athens</td>\n",
              "      <td>Athletics</td>\n",
              "      <td>Athletics</td>\n",
              "      <td>VERSIS, Sotirios</td>\n",
              "      <td>GRE</td>\n",
              "      <td>Men</td>\n",
              "      <td>Discus Throw</td>\n",
              "      <td>Bronze</td>\n",
              "    </tr>\n",
              "    <tr>\n",
              "      <th>27</th>\n",
              "      <td>1896</td>\n",
              "      <td>Athens</td>\n",
              "      <td>Athletics</td>\n",
              "      <td>Athletics</td>\n",
              "      <td>GARRETT, Robert</td>\n",
              "      <td>USA</td>\n",
              "      <td>Men</td>\n",
              "      <td>Discus Throw</td>\n",
              "      <td>Gold</td>\n",
              "    </tr>\n",
              "    <tr>\n",
              "      <th>28</th>\n",
              "      <td>1896</td>\n",
              "      <td>Athens</td>\n",
              "      <td>Athletics</td>\n",
              "      <td>Athletics</td>\n",
              "      <td>PARASKEVOPOULOS, Panagiotis</td>\n",
              "      <td>GRE</td>\n",
              "      <td>Men</td>\n",
              "      <td>Discus Throw</td>\n",
              "      <td>Silver</td>\n",
              "    </tr>\n",
              "    <tr>\n",
              "      <th>29</th>\n",
              "      <td>1896</td>\n",
              "      <td>Athens</td>\n",
              "      <td>Athletics</td>\n",
              "      <td>Athletics</td>\n",
              "      <td>CLARK, Ellery</td>\n",
              "      <td>USA</td>\n",
              "      <td>Men</td>\n",
              "      <td>High Jump</td>\n",
              "      <td>Gold</td>\n",
              "    </tr>\n",
              "    <tr>\n",
              "      <th>...</th>\n",
              "      <td>...</td>\n",
              "      <td>...</td>\n",
              "      <td>...</td>\n",
              "      <td>...</td>\n",
              "      <td>...</td>\n",
              "      <td>...</td>\n",
              "      <td>...</td>\n",
              "      <td>...</td>\n",
              "      <td>...</td>\n",
              "    </tr>\n",
              "    <tr>\n",
              "      <th>31135</th>\n",
              "      <td>2012</td>\n",
              "      <td>London</td>\n",
              "      <td>Wrestling</td>\n",
              "      <td>Wrestling Freestyle</td>\n",
              "      <td>GAZYUMOV, Khetag</td>\n",
              "      <td>AZE</td>\n",
              "      <td>Men</td>\n",
              "      <td>Wf 96 KG</td>\n",
              "      <td>Bronze</td>\n",
              "    </tr>\n",
              "    <tr>\n",
              "      <th>31136</th>\n",
              "      <td>2012</td>\n",
              "      <td>London</td>\n",
              "      <td>Wrestling</td>\n",
              "      <td>Wrestling Freestyle</td>\n",
              "      <td>GOGSHELIDZE, George</td>\n",
              "      <td>GEO</td>\n",
              "      <td>Men</td>\n",
              "      <td>Wf 96 KG</td>\n",
              "      <td>Bronze</td>\n",
              "    </tr>\n",
              "    <tr>\n",
              "      <th>31137</th>\n",
              "      <td>2012</td>\n",
              "      <td>London</td>\n",
              "      <td>Wrestling</td>\n",
              "      <td>Wrestling Freestyle</td>\n",
              "      <td>LOPEZ NUNEZ, Mijain</td>\n",
              "      <td>CUB</td>\n",
              "      <td>Men</td>\n",
              "      <td>Wg 120 KG</td>\n",
              "      <td>Gold</td>\n",
              "    </tr>\n",
              "    <tr>\n",
              "      <th>31138</th>\n",
              "      <td>2012</td>\n",
              "      <td>London</td>\n",
              "      <td>Wrestling</td>\n",
              "      <td>Wrestling Freestyle</td>\n",
              "      <td>NABI, Heiki</td>\n",
              "      <td>EST</td>\n",
              "      <td>Men</td>\n",
              "      <td>Wg 120 KG</td>\n",
              "      <td>Silver</td>\n",
              "    </tr>\n",
              "    <tr>\n",
              "      <th>31139</th>\n",
              "      <td>2012</td>\n",
              "      <td>London</td>\n",
              "      <td>Wrestling</td>\n",
              "      <td>Wrestling Freestyle</td>\n",
              "      <td>EUREN, Johan</td>\n",
              "      <td>SWE</td>\n",
              "      <td>Men</td>\n",
              "      <td>Wg 120 KG</td>\n",
              "      <td>Bronze</td>\n",
              "    </tr>\n",
              "    <tr>\n",
              "      <th>31140</th>\n",
              "      <td>2012</td>\n",
              "      <td>London</td>\n",
              "      <td>Wrestling</td>\n",
              "      <td>Wrestling Freestyle</td>\n",
              "      <td>KAYAALP, Riza</td>\n",
              "      <td>TUR</td>\n",
              "      <td>Men</td>\n",
              "      <td>Wg 120 KG</td>\n",
              "      <td>Bronze</td>\n",
              "    </tr>\n",
              "    <tr>\n",
              "      <th>31141</th>\n",
              "      <td>2012</td>\n",
              "      <td>London</td>\n",
              "      <td>Wrestling</td>\n",
              "      <td>Wrestling Freestyle</td>\n",
              "      <td>SORYAN REIHANPOUR, Hamid Mohammad</td>\n",
              "      <td>IRI</td>\n",
              "      <td>Men</td>\n",
              "      <td>Wg 55 KG</td>\n",
              "      <td>Gold</td>\n",
              "    </tr>\n",
              "    <tr>\n",
              "      <th>31142</th>\n",
              "      <td>2012</td>\n",
              "      <td>London</td>\n",
              "      <td>Wrestling</td>\n",
              "      <td>Wrestling Freestyle</td>\n",
              "      <td>BAYRAMOV, Rovshan</td>\n",
              "      <td>AZE</td>\n",
              "      <td>Men</td>\n",
              "      <td>Wg 55 KG</td>\n",
              "      <td>Silver</td>\n",
              "    </tr>\n",
              "    <tr>\n",
              "      <th>31143</th>\n",
              "      <td>2012</td>\n",
              "      <td>London</td>\n",
              "      <td>Wrestling</td>\n",
              "      <td>Wrestling Freestyle</td>\n",
              "      <td>MODOS, Peter</td>\n",
              "      <td>HUN</td>\n",
              "      <td>Men</td>\n",
              "      <td>Wg 55 KG</td>\n",
              "      <td>Bronze</td>\n",
              "    </tr>\n",
              "    <tr>\n",
              "      <th>31144</th>\n",
              "      <td>2012</td>\n",
              "      <td>London</td>\n",
              "      <td>Wrestling</td>\n",
              "      <td>Wrestling Freestyle</td>\n",
              "      <td>SEMENOV, Mingiyan</td>\n",
              "      <td>RUS</td>\n",
              "      <td>Men</td>\n",
              "      <td>Wg 55 KG</td>\n",
              "      <td>Bronze</td>\n",
              "    </tr>\n",
              "    <tr>\n",
              "      <th>31145</th>\n",
              "      <td>2012</td>\n",
              "      <td>London</td>\n",
              "      <td>Wrestling</td>\n",
              "      <td>Wrestling Freestyle</td>\n",
              "      <td>NOROOZI, Omid Haji</td>\n",
              "      <td>IRI</td>\n",
              "      <td>Men</td>\n",
              "      <td>Wg 60 KG</td>\n",
              "      <td>Gold</td>\n",
              "    </tr>\n",
              "    <tr>\n",
              "      <th>31146</th>\n",
              "      <td>2012</td>\n",
              "      <td>London</td>\n",
              "      <td>Wrestling</td>\n",
              "      <td>Wrestling Freestyle</td>\n",
              "      <td>LASHKHI, Revaz</td>\n",
              "      <td>GEO</td>\n",
              "      <td>Men</td>\n",
              "      <td>Wg 60 KG</td>\n",
              "      <td>Silver</td>\n",
              "    </tr>\n",
              "    <tr>\n",
              "      <th>31147</th>\n",
              "      <td>2012</td>\n",
              "      <td>London</td>\n",
              "      <td>Wrestling</td>\n",
              "      <td>Wrestling Freestyle</td>\n",
              "      <td>KURAMAGOMEDOV, Zaur</td>\n",
              "      <td>RUS</td>\n",
              "      <td>Men</td>\n",
              "      <td>Wg 60 KG</td>\n",
              "      <td>Bronze</td>\n",
              "    </tr>\n",
              "    <tr>\n",
              "      <th>31148</th>\n",
              "      <td>2012</td>\n",
              "      <td>London</td>\n",
              "      <td>Wrestling</td>\n",
              "      <td>Wrestling Freestyle</td>\n",
              "      <td>MATSUMOTO, Ryutaro</td>\n",
              "      <td>JPN</td>\n",
              "      <td>Men</td>\n",
              "      <td>Wg 60 KG</td>\n",
              "      <td>Bronze</td>\n",
              "    </tr>\n",
              "    <tr>\n",
              "      <th>31149</th>\n",
              "      <td>2012</td>\n",
              "      <td>London</td>\n",
              "      <td>Wrestling</td>\n",
              "      <td>Wrestling Freestyle</td>\n",
              "      <td>KIM, Hyeonwoo</td>\n",
              "      <td>KOR</td>\n",
              "      <td>Men</td>\n",
              "      <td>Wg 66 KG</td>\n",
              "      <td>Gold</td>\n",
              "    </tr>\n",
              "    <tr>\n",
              "      <th>31150</th>\n",
              "      <td>2012</td>\n",
              "      <td>London</td>\n",
              "      <td>Wrestling</td>\n",
              "      <td>Wrestling Freestyle</td>\n",
              "      <td>LORINCZ, Tamas</td>\n",
              "      <td>HUN</td>\n",
              "      <td>Men</td>\n",
              "      <td>Wg 66 KG</td>\n",
              "      <td>Silver</td>\n",
              "    </tr>\n",
              "    <tr>\n",
              "      <th>31151</th>\n",
              "      <td>2012</td>\n",
              "      <td>London</td>\n",
              "      <td>Wrestling</td>\n",
              "      <td>Wrestling Freestyle</td>\n",
              "      <td>GUENOT, Steeve</td>\n",
              "      <td>FRA</td>\n",
              "      <td>Men</td>\n",
              "      <td>Wg 66 KG</td>\n",
              "      <td>Bronze</td>\n",
              "    </tr>\n",
              "    <tr>\n",
              "      <th>31152</th>\n",
              "      <td>2012</td>\n",
              "      <td>London</td>\n",
              "      <td>Wrestling</td>\n",
              "      <td>Wrestling Freestyle</td>\n",
              "      <td>TSKHADAIA, Manuchar</td>\n",
              "      <td>GEO</td>\n",
              "      <td>Men</td>\n",
              "      <td>Wg 66 KG</td>\n",
              "      <td>Bronze</td>\n",
              "    </tr>\n",
              "    <tr>\n",
              "      <th>31153</th>\n",
              "      <td>2012</td>\n",
              "      <td>London</td>\n",
              "      <td>Wrestling</td>\n",
              "      <td>Wrestling Freestyle</td>\n",
              "      <td>VLASOV, Roman</td>\n",
              "      <td>RUS</td>\n",
              "      <td>Men</td>\n",
              "      <td>Wg 74 KG</td>\n",
              "      <td>Gold</td>\n",
              "    </tr>\n",
              "    <tr>\n",
              "      <th>31154</th>\n",
              "      <td>2012</td>\n",
              "      <td>London</td>\n",
              "      <td>Wrestling</td>\n",
              "      <td>Wrestling Freestyle</td>\n",
              "      <td>JULFALAKYAN, Arsen</td>\n",
              "      <td>ARM</td>\n",
              "      <td>Men</td>\n",
              "      <td>Wg 74 KG</td>\n",
              "      <td>Silver</td>\n",
              "    </tr>\n",
              "    <tr>\n",
              "      <th>31155</th>\n",
              "      <td>2012</td>\n",
              "      <td>London</td>\n",
              "      <td>Wrestling</td>\n",
              "      <td>Wrestling Freestyle</td>\n",
              "      <td>AHMADOV, Emin</td>\n",
              "      <td>AZE</td>\n",
              "      <td>Men</td>\n",
              "      <td>Wg 74 KG</td>\n",
              "      <td>Bronze</td>\n",
              "    </tr>\n",
              "    <tr>\n",
              "      <th>31156</th>\n",
              "      <td>2012</td>\n",
              "      <td>London</td>\n",
              "      <td>Wrestling</td>\n",
              "      <td>Wrestling Freestyle</td>\n",
              "      <td>KAZAKEVIC, Aleksandr</td>\n",
              "      <td>LTU</td>\n",
              "      <td>Men</td>\n",
              "      <td>Wg 74 KG</td>\n",
              "      <td>Bronze</td>\n",
              "    </tr>\n",
              "    <tr>\n",
              "      <th>31157</th>\n",
              "      <td>2012</td>\n",
              "      <td>London</td>\n",
              "      <td>Wrestling</td>\n",
              "      <td>Wrestling Freestyle</td>\n",
              "      <td>KHUGAEV, Alan</td>\n",
              "      <td>RUS</td>\n",
              "      <td>Men</td>\n",
              "      <td>Wg 84 KG</td>\n",
              "      <td>Gold</td>\n",
              "    </tr>\n",
              "    <tr>\n",
              "      <th>31158</th>\n",
              "      <td>2012</td>\n",
              "      <td>London</td>\n",
              "      <td>Wrestling</td>\n",
              "      <td>Wrestling Freestyle</td>\n",
              "      <td>EBRAHIM, Karam Mohamed Gaber</td>\n",
              "      <td>EGY</td>\n",
              "      <td>Men</td>\n",
              "      <td>Wg 84 KG</td>\n",
              "      <td>Silver</td>\n",
              "    </tr>\n",
              "    <tr>\n",
              "      <th>31159</th>\n",
              "      <td>2012</td>\n",
              "      <td>London</td>\n",
              "      <td>Wrestling</td>\n",
              "      <td>Wrestling Freestyle</td>\n",
              "      <td>GAJIYEV, Danyal</td>\n",
              "      <td>KAZ</td>\n",
              "      <td>Men</td>\n",
              "      <td>Wg 84 KG</td>\n",
              "      <td>Bronze</td>\n",
              "    </tr>\n",
              "    <tr>\n",
              "      <th>31160</th>\n",
              "      <td>2012</td>\n",
              "      <td>London</td>\n",
              "      <td>Wrestling</td>\n",
              "      <td>Wrestling Freestyle</td>\n",
              "      <td>JANIKOWSKI, Damian</td>\n",
              "      <td>POL</td>\n",
              "      <td>Men</td>\n",
              "      <td>Wg 84 KG</td>\n",
              "      <td>Bronze</td>\n",
              "    </tr>\n",
              "    <tr>\n",
              "      <th>31161</th>\n",
              "      <td>2012</td>\n",
              "      <td>London</td>\n",
              "      <td>Wrestling</td>\n",
              "      <td>Wrestling Freestyle</td>\n",
              "      <td>REZAEI, Ghasem Gholamreza</td>\n",
              "      <td>IRI</td>\n",
              "      <td>Men</td>\n",
              "      <td>Wg 96 KG</td>\n",
              "      <td>Gold</td>\n",
              "    </tr>\n",
              "    <tr>\n",
              "      <th>31162</th>\n",
              "      <td>2012</td>\n",
              "      <td>London</td>\n",
              "      <td>Wrestling</td>\n",
              "      <td>Wrestling Freestyle</td>\n",
              "      <td>TOTROV, Rustam</td>\n",
              "      <td>RUS</td>\n",
              "      <td>Men</td>\n",
              "      <td>Wg 96 KG</td>\n",
              "      <td>Silver</td>\n",
              "    </tr>\n",
              "    <tr>\n",
              "      <th>31163</th>\n",
              "      <td>2012</td>\n",
              "      <td>London</td>\n",
              "      <td>Wrestling</td>\n",
              "      <td>Wrestling Freestyle</td>\n",
              "      <td>ALEKSANYAN, Artur</td>\n",
              "      <td>ARM</td>\n",
              "      <td>Men</td>\n",
              "      <td>Wg 96 KG</td>\n",
              "      <td>Bronze</td>\n",
              "    </tr>\n",
              "    <tr>\n",
              "      <th>31164</th>\n",
              "      <td>2012</td>\n",
              "      <td>London</td>\n",
              "      <td>Wrestling</td>\n",
              "      <td>Wrestling Freestyle</td>\n",
              "      <td>LIDBERG, Jimmy</td>\n",
              "      <td>SWE</td>\n",
              "      <td>Men</td>\n",
              "      <td>Wg 96 KG</td>\n",
              "      <td>Bronze</td>\n",
              "    </tr>\n",
              "  </tbody>\n",
              "</table>\n",
              "<p>31165 rows × 9 columns</p>\n",
              "</div>"
            ]
          },
          "metadata": {},
          "execution_count": 3
        }
      ]
    },
    {
      "cell_type": "markdown",
      "metadata": {
        "id": "Io-IhCh24CYV"
      },
      "source": [
        "# Summer Olympics Data Analysis Assignment"
      ]
    },
    {
      "cell_type": "markdown",
      "metadata": {
        "id": "FtIVh-Cg4CYe"
      },
      "source": [
        "### 1. In how many cities Summer Olympics is held so far?"
      ]
    },
    {
      "cell_type": "code",
      "metadata": {
        "id": "VSQLgWoJ4CYg",
        "colab": {
          "base_uri": "https://localhost:8080/"
        },
        "outputId": "2c8d94d4-5092-40f6-e0d5-ced5832d3bcb"
      },
      "source": [
        "df['City'].unique()"
      ],
      "execution_count": null,
      "outputs": [
        {
          "output_type": "execute_result",
          "data": {
            "text/plain": [
              "array(['Athens', 'Paris', 'St Louis', 'London', 'Stockholm', 'Antwerp',\n",
              "       'Amsterdam', 'Los Angeles', 'Berlin', 'Helsinki',\n",
              "       'Melbourne / Stockholm', 'Rome', 'Tokyo', 'Mexico', 'Munich',\n",
              "       'Montreal', 'Moscow', 'Seoul', 'Barcelona', 'Atlanta', 'Sydney',\n",
              "       'Beijing'], dtype=object)"
            ]
          },
          "metadata": {},
          "execution_count": 4
        }
      ]
    },
    {
      "cell_type": "code",
      "metadata": {
        "colab": {
          "base_uri": "https://localhost:8080/"
        },
        "id": "CSIBdP2ZMNmN",
        "outputId": "2cbddd7f-167f-4e54-ae24-0ce1ff55ea6d"
      },
      "source": [
        "len(df['City'].unique())"
      ],
      "execution_count": 14,
      "outputs": [
        {
          "output_type": "execute_result",
          "data": {
            "text/plain": [
              "22"
            ]
          },
          "metadata": {},
          "execution_count": 14
        }
      ]
    },
    {
      "cell_type": "markdown",
      "metadata": {
        "id": "NxaNR06h4CYh"
      },
      "source": [
        "### 2. Which sport is having most number of Gold Medals so far? (Top 5)"
      ]
    },
    {
      "cell_type": "code",
      "metadata": {
        "id": "r5JAz56QPB7C"
      },
      "source": [
        "df1 = df[df['Medal'] == 'Gold'] \n"
      ],
      "execution_count": null,
      "outputs": []
    },
    {
      "cell_type": "code",
      "metadata": {
        "colab": {
          "base_uri": "https://localhost:8080/",
          "height": 403
        },
        "id": "QX019Z7fNKVP",
        "outputId": "a101b0c4-4424-4a28-f4bf-c21aa4140e18"
      },
      "source": [
        "data1 = []\n",
        "\n",
        "for i in df1['Sport'].unique():\n",
        "  data1.append((i, len(df1[df1['Sport'] == i])))\n",
        "\n",
        "\n",
        "data1 = pd.DataFrame(data1, columns = ['Sport', 'No_of_Gold_Medals'])\n",
        "\n",
        "data1 = data1.sort_values(by = 'No_of_Gold_Medals', ascending = False).head()\n",
        "\n",
        "data1.plot(x = 'Sport', y = 'No_of_Gold_Medals', kind = 'bar', figsize = (5,5))"
      ],
      "execution_count": null,
      "outputs": [
        {
          "output_type": "execute_result",
          "data": {
            "text/plain": [
              "<matplotlib.axes._subplots.AxesSubplot at 0x7ffb223583d0>"
            ]
          },
          "metadata": {},
          "execution_count": 6
        },
        {
          "output_type": "display_data",
          "data": {
            "image/png": "[encoded data removed]",
            "text/plain": [
              "<Figure size 360x360 with 1 Axes>"
            ]
          },
          "metadata": {
            "needs_background": "light"
          }
        }
      ]
    },
    {
      "cell_type": "markdown",
      "metadata": {
        "id": "S30lKvqA4CYk"
      },
      "source": [
        "### 3. Which sport is having most number of medals so far? (Top 5)"
      ]
    },
    {
      "cell_type": "code",
      "metadata": {
        "colab": {
          "base_uri": "https://localhost:8080/",
          "height": 403
        },
        "id": "6EZ1-9bvNLgx",
        "outputId": "1509fbec-082c-4919-eab1-bec3a9eb93ed"
      },
      "source": [
        "data = []\n",
        "\n",
        "for i in df['Sport'].unique():\n",
        "  data.append((i, len(df[df['Sport'] == i])))\n",
        "\n",
        "data = pd.DataFrame(data, columns = ['Sport', 'No_of_Medals'])\n",
        "\n",
        "data = data.sort_values(by = 'No_of_Medals', ascending = False).head()\n",
        "\n",
        "data.plot(x = 'Sport', y = 'No_of_Medals', kind = 'bar', figsize = (5,5))"
      ],
      "execution_count": null,
      "outputs": [
        {
          "output_type": "execute_result",
          "data": {
            "text/plain": [
              "<matplotlib.axes._subplots.AxesSubplot at 0x7ffb222a4590>"
            ]
          },
          "metadata": {},
          "execution_count": 7
        },
        {
          "output_type": "display_data",
          "data": {
            "image/png": "[encoded data removed]",
            "text/plain": [
              "<Figure size 360x360 with 1 Axes>"
            ]
          },
          "metadata": {
            "needs_background": "light"
          }
        }
      ]
    },
    {
      "cell_type": "markdown",
      "metadata": {
        "id": "RclYrpbu4CYn"
      },
      "source": [
        "### 4. Which player has won most number of medals? (Top 5)"
      ]
    },
    {
      "cell_type": "code",
      "metadata": {
        "id": "u8pWbkOP4CYo",
        "colab": {
          "base_uri": "https://localhost:8080/",
          "height": 462
        },
        "outputId": "2c52dea3-5603-49e8-f637-7e9926e4e45f"
      },
      "source": [
        "data2 = []\n",
        "\n",
        "for i in df['Athlete'].unique():\n",
        "  data2.append((i, len(df[df['Athlete'] == i])))\n",
        "\n",
        "data2 = pd.DataFrame(data2, columns = ['Athlete', 'Medals_Won'])\n",
        "\n",
        "data2 = data2.sort_values(by = 'Medals_Won', ascending = False).head()\n",
        "\n",
        "data2.plot(x = 'Athlete', y = 'Medals_Won', kind = 'bar', figsize = (5,5))"
      ],
      "execution_count": null,
      "outputs": [
        {
          "output_type": "execute_result",
          "data": {
            "text/plain": [
              "<matplotlib.axes._subplots.AxesSubplot at 0x7ffb201b3790>"
            ]
          },
          "metadata": {},
          "execution_count": 8
        },
        {
          "output_type": "display_data",
          "data": {
            "image/png": "[encoded data removed]",
            "text/plain": [
              "<Figure size 360x360 with 1 Axes>"
            ]
          },
          "metadata": {
            "needs_background": "light"
          }
        }
      ]
    },
    {
      "cell_type": "markdown",
      "metadata": {
        "id": "UpD2Qt9J4CYq"
      },
      "source": [
        "### 5. Which player has won most number Gold Medals of medals? (Top 5)"
      ]
    },
    {
      "cell_type": "code",
      "metadata": {
        "id": "5WyQRlgX4CYr",
        "colab": {
          "base_uri": "https://localhost:8080/",
          "height": 430
        },
        "outputId": "e1b63aa5-4256-4f8e-961e-296998ec7fd8"
      },
      "source": [
        "data3 = []\n",
        "\n",
        "for i in df1['Athlete'].unique():\n",
        "  data3.append((i, len(df1[df1['Athlete'] == i])))\n",
        "\n",
        "\n",
        "data3 = pd.DataFrame(data3, columns = ['Athlete', 'Gold_Medals_Won'])\n",
        "\n",
        "data3 = data3.sort_values(by = 'Gold_Medals_Won', ascending = False).head()\n",
        "\n",
        "data3.plot(x = 'Athlete', y = 'Gold_Medals_Won', kind = 'bar', figsize = (5,5))"
      ],
      "execution_count": null,
      "outputs": [
        {
          "output_type": "execute_result",
          "data": {
            "text/plain": [
              "<matplotlib.axes._subplots.AxesSubplot at 0x7ffb1ffbcb90>"
            ]
          },
          "metadata": {},
          "execution_count": 9
        },
        {
          "output_type": "display_data",
          "data": {
            "image/png": "[encoded data removed]",
            "text/plain": [
              "<Figure size 360x360 with 1 Axes>"
            ]
          },
          "metadata": {
            "needs_background": "light"
          }
        }
      ]
    },
    {
      "cell_type": "markdown",
      "metadata": {
        "id": "_PLUkvQc4CYs"
      },
      "source": [
        "### 6. In which year India won first Gold Medal in Summer Olympics?"
      ]
    },
    {
      "cell_type": "code",
      "metadata": {
        "id": "GPOu0Mz14CYt",
        "colab": {
          "base_uri": "https://localhost:8080/"
        },
        "outputId": "a115fbdd-6543-4a9f-c1b6-f5c8a9b89cc8"
      },
      "source": [
        "val = df1[df1['Country'] == 'IND']\n",
        "val['Year'].min()"
      ],
      "execution_count": null,
      "outputs": [
        {
          "output_type": "execute_result",
          "data": {
            "text/plain": [
              "1928"
            ]
          },
          "metadata": {},
          "execution_count": 10
        }
      ]
    },
    {
      "cell_type": "markdown",
      "metadata": {
        "id": "AcbyKZq74CYu"
      },
      "source": [
        "### 7. Which event is most popular in terms on number of players? (Top 5)"
      ]
    },
    {
      "cell_type": "code",
      "metadata": {
        "id": "mu25loVF4CYv",
        "colab": {
          "base_uri": "https://localhost:8080/",
          "height": 436
        },
        "outputId": "eb59c219-b19b-4c80-b885-ccff6f9f99eb"
      },
      "source": [
        "data4 = []\n",
        "\n",
        "for i in df['Event'].unique():\n",
        "  data4.append((i, len(df[df['Event'] == i])))\n",
        "\n",
        "\n",
        "data4 = pd.DataFrame(data4, columns = ['Event', 'Frequency'])\n",
        "\n",
        "data4 = data4.sort_values(by = 'Frequency', ascending = False).head()\n",
        "\n",
        "data4.plot(x = 'Event', y = 'Frequency', kind = 'bar', figsize = (5,5))"
      ],
      "execution_count": null,
      "outputs": [
        {
          "output_type": "execute_result",
          "data": {
            "text/plain": [
              "<matplotlib.axes._subplots.AxesSubplot at 0x7ffb200e1a10>"
            ]
          },
          "metadata": {},
          "execution_count": 11
        },
        {
          "output_type": "display_data",
          "data": {
            "image/png": "[encoded data removed]",
            "text/plain": [
              "<Figure size 360x360 with 1 Axes>"
            ]
          },
          "metadata": {
            "needs_background": "light"
          }
        }
      ]
    },
    {
      "cell_type": "markdown",
      "metadata": {
        "id": "-6kZzOL-4CYv"
      },
      "source": [
        "### 8. Which sport is having most female Gold Medalists? (Top 5)"
      ]
    },
    {
      "cell_type": "code",
      "metadata": {
        "id": "NnZ-KkEj4CYw"
      },
      "source": [
        "df2 = df1[df1['Gender'] == 'Women']"
      ],
      "execution_count": null,
      "outputs": []
    },
    {
      "cell_type": "code",
      "metadata": {
        "colab": {
          "base_uri": "https://localhost:8080/",
          "height": 403
        },
        "id": "jbKYOg1za2Dq",
        "outputId": "9e914316-f04e-40c1-be49-676a83394fc4"
      },
      "source": [
        "data5 = []\n",
        "\n",
        "for i in df['Sport'].unique():\n",
        "  data5.append((i, len(df[df['Sport'] == i])))\n",
        "\n",
        "\n",
        "data5 = pd.DataFrame(data5, columns = ['Sport', 'Female_Popularity'])\n",
        "\n",
        "data5 = data5.sort_values(by = 'Female_Popularity', ascending = False).head()\n",
        "\n",
        "data5.plot(x = 'Sport', y = 'Female_Popularity', kind = 'bar', figsize = (5,5))"
      ],
      "execution_count": null,
      "outputs": [
        {
          "output_type": "execute_result",
          "data": {
            "text/plain": [
              "<matplotlib.axes._subplots.AxesSubplot at 0x7ffb2002ca50>"
            ]
          },
          "metadata": {},
          "execution_count": 13
        },
        {
          "output_type": "display_data",
          "data": {
            "image/png": "[encoded data removed]",
            "text/plain": [
              "<Figure size 360x360 with 1 Axes>"
            ]
          },
          "metadata": {
            "needs_background": "light"
          }
        }
      ]
    }
  ]
}